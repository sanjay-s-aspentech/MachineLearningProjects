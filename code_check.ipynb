{
 "cells": [
  {
   "cell_type": "markdown",
   "metadata": {},
   "source": []
  },
  {
   "cell_type": "code",
   "execution_count": null,
   "metadata": {},
   "outputs": [],
   "source": [
    "def get_requirements(file):\n",
    "    with open(file, \"r\") as f:\n",
    "        lines=[]\n",
    "        while(True):\n",
    "            line = f.readline()\n",
    "            if line == \"-e .\":\n",
    "                break\n",
    "            else:\n",
    "                lines.append(line)\n",
    "        else:\n",
    "            return line\n",
    "get_requirements(\"./requirements.txt\")"
   ]
  }
 ],
 "metadata": {
  "kernelspec": {
   "display_name": ".venv",
   "language": "python",
   "name": "python3"
  },
  "language_info": {
   "codemirror_mode": {
    "name": "ipython",
    "version": 3
   },
   "file_extension": ".py",
   "mimetype": "text/x-python",
   "name": "python",
   "nbconvert_exporter": "python",
   "pygments_lexer": "ipython3",
   "version": "3.11.7"
  }
 },
 "nbformat": 4,
 "nbformat_minor": 2
}
